{
 "cells": [
  {
   "cell_type": "markdown",
   "id": "00a57394-53dd-47cd-a5e7-6e7122bbb0f6",
   "metadata": {},
   "source": [
    "# SQL query from table names"
   ]
  },
  {
   "cell_type": "markdown",
   "id": "86bc2813-763c-49f2-9f5d-e1f87a20556f",
   "metadata": {
    "id": "86bc2813-763c-49f2-9f5d-e1f87a20556f"
   },
   "source": [
    "In This notebook we are going to test if using just the name of the table, and a shord definition of its contect we can use a model like GTP3.5-Turbo to select which tables are necessary to create a SQL Order to answer the user petition."
   ]
  },
  {
   "cell_type": "code",
   "execution_count": 7,
   "id": "7fbbdf5b-4d7f-4496-8f40-9d15ea46d023",
   "metadata": {
    "id": "7fbbdf5b-4d7f-4496-8f40-9d15ea46d023"
   },
   "outputs": [],
   "source": [
    "from openai import OpenAI\n",
    "import os\n",
    "from dotenv import load_dotenv, find_dotenv\n",
    "_ = load_dotenv(find_dotenv())\n",
    "\n",
    "OPENAI_API_KEY  = os.getenv('OPENAI_API_KEY')"
   ]
  },
  {
   "cell_type": "code",
   "execution_count": 8,
   "id": "e480bbfb-9a80-4ea6-b792-067e63ae3148",
   "metadata": {
    "id": "e480bbfb-9a80-4ea6-b792-067e63ae3148"
   },
   "outputs": [],
   "source": [
    "# Function to call the model with error handling and retries.\n",
    "import time\n",
    "from openai import OpenAI, OpenAIError\n",
    "\n",
    "def return_OAI(user_message):\n",
    "    client = OpenAI(\n",
    "        api_key=OPENAI_API_KEY,\n",
    "    )\n",
    "    context = [{'role': 'system', \"content\": user_message}]\n",
    "\n",
    "    # Retry up to 3 times if the API fails\n",
    "    for _ in range(3):\n",
    "        try:\n",
    "            response = client.chat.completions.create(\n",
    "                model=\"gpt-3.5-turbo\",\n",
    "                messages=context,\n",
    "                temperature=0,\n",
    "            )\n",
    "            return response.choices[0].message.content\n",
    "        except OpenAIError as e:\n",
    "            print(f\"Error: {e}, retrying...\")\n",
    "            time.sleep(2)\n",
    "\n",
    "    return \"Failed to connect to OpenAI API after retries.\"\n"
   ]
  },
  {
   "cell_type": "code",
   "execution_count": 9,
   "id": "6d5d2bdc-d822-4ed8-815e-b3f223730f15",
   "metadata": {
    "id": "6d5d2bdc-d822-4ed8-815e-b3f223730f15",
    "outputId": "61068bf0-41e3-40d9-b453-b76da5b0f086"
   },
   "outputs": [
    {
     "name": "stdout",
     "output_type": "stream",
     "text": [
      "       table                                         definition\n",
      "0  Customers  Stores customer information such as name, emai...\n",
      "1     Orders  Records details of customer orders including o...\n",
      "2   Products  Contains product details like name, category, ...\n"
     ]
    }
   ],
   "source": [
    "# Definition of the tables.\n",
    "import pandas as pd\n",
    "\n",
    "# Table and definitions sample\n",
    "data = {'table': ['Customers', 'Orders', 'Products'],  # Add table names here\n",
    "        'definition': [\n",
    "            'Stores customer information such as name, email, and address',  # Describe each table here\n",
    "            'Records details of customer orders including order date, customer ID, and total amount',\n",
    "            'Contains product details like name, category, and price'\n",
    "        ]}\n",
    "\n",
    "df = pd.DataFrame(data)\n",
    "print(df)"
   ]
  },
  {
   "cell_type": "code",
   "execution_count": 10,
   "id": "009e681c-d95d-4c9c-b044-5bfd76e3ad95",
   "metadata": {
    "id": "009e681c-d95d-4c9c-b044-5bfd76e3ad95"
   },
   "outputs": [],
   "source": [
    "text_tables = '\\n'.join([f\"{row['table']}: {row['definition']}\" for index, row in df.iterrows()])"
   ]
  },
  {
   "cell_type": "code",
   "execution_count": 11,
   "id": "fe03ac25-8d02-4cd1-99a1-be4220c6fd2d",
   "metadata": {
    "id": "fe03ac25-8d02-4cd1-99a1-be4220c6fd2d",
    "outputId": "c1f3aab1-5f26-48fe-fcf9-3780120f5aad"
   },
   "outputs": [
    {
     "name": "stdout",
     "output_type": "stream",
     "text": [
      "Customers: Stores customer information such as name, email, and address\n",
      "Orders: Records details of customer orders including order date, customer ID, and total amount\n",
      "Products: Contains product details like name, category, and price\n"
     ]
    }
   ],
   "source": [
    "print(text_tables)"
   ]
  },
  {
   "cell_type": "code",
   "execution_count": 12,
   "id": "c7e275ae-f20d-4134-b9b6-d8677dfb544c",
   "metadata": {
    "id": "c7e275ae-f20d-4134-b9b6-d8677dfb544c"
   },
   "outputs": [],
   "source": [
    "prompt_question_tables = \"\"\"\n",
    "Given the following tables and their content definitions,\n",
    "\n",
    "### Tables\n",
    "{tables}\n",
    "\n",
    "Tell me which tables would be necessary to query with SQL to address the user's question below.\n",
    "Return the table names in a JSON format.\n",
    "\n",
    "### User Question:\n",
    "{question}\n",
    "\"\"\"\n",
    "\n"
   ]
  },
  {
   "cell_type": "code",
   "execution_count": 13,
   "id": "b1cb5957-2df2-4e5e-9e6a-ace955c9817e",
   "metadata": {
    "id": "b1cb5957-2df2-4e5e-9e6a-ace955c9817e"
   },
   "outputs": [],
   "source": [
    "pqt1 = prompt_question_tables.format(tables=text_tables, question=\"What are the most common diseases in the dataset?\")\n"
   ]
  },
  {
   "cell_type": "code",
   "execution_count": 14,
   "id": "10d30f2b-6c23-4fd6-8038-840fba784cce",
   "metadata": {
    "id": "10d30f2b-6c23-4fd6-8038-840fba784cce",
    "outputId": "9924022c-7b2b-4ec8-e2c2-75bc1c745151",
    "scrolled": true
   },
   "outputs": [
    {
     "name": "stdout",
     "output_type": "stream",
     "text": [
      "{\n",
      "    \"tables\": [\"Products\"]\n",
      "}\n"
     ]
    }
   ],
   "source": [
    "print(return_OAI(pqt1))"
   ]
  },
  {
   "cell_type": "code",
   "execution_count": 16,
   "id": "57e07083-be8f-4cd0-95bd-c4b909422c6b",
   "metadata": {
    "id": "57e07083-be8f-4cd0-95bd-c4b909422c6b"
   },
   "outputs": [],
   "source": [
    "pqt3 = prompt_question_tables.format(tables=text_tables, \n",
    "                                     question=\"What is the average age of patients in the dataset?\")\n"
   ]
  },
  {
   "cell_type": "code",
   "execution_count": 17,
   "id": "a0eeb79e-caf1-4f48-9897-168d95d2ae37",
   "metadata": {
    "id": "a0eeb79e-caf1-4f48-9897-168d95d2ae37",
    "outputId": "81d77115-9cad-4284-a228-5368bb9aa6fb"
   },
   "outputs": [
    {
     "name": "stdout",
     "output_type": "stream",
     "text": [
      "{\n",
      "    \"tables\": [\"Customers\"]\n",
      "}\n"
     ]
    }
   ],
   "source": [
    "print(return_OAI(pqt3))"
   ]
  },
  {
   "cell_type": "markdown",
   "id": "321bb9a2-4937-4e9a-a31b-7049cb8f5aa3",
   "metadata": {
    "id": "321bb9a2-4937-4e9a-a31b-7049cb8f5aa3"
   },
   "source": [
    "# Exercise\n",
    " - Complete the prompts similar to what we did in class. \n",
    "     - Try a few versions if you have time\n",
    "     - Be creative\n",
    " - Write a one page report summarizing your findings.\n",
    "     - Were there variations that didn't work well? i.e., where GPT either hallucinated or wrong\n",
    " - What did you learn?"
   ]
  },
  {
   "cell_type": "code",
   "execution_count": 18,
   "id": "5504c640",
   "metadata": {},
   "outputs": [],
   "source": [
    "###  Exercise: Modify for a new question\n",
    "\n",
    "new_question = \"List the names of customers who ordered products in the 'Electronics' category.\""
   ]
  },
  {
   "cell_type": "code",
   "execution_count": 20,
   "id": "ab28281b",
   "metadata": {},
   "outputs": [],
   "source": [
    "# Update the prompt for the new question\n",
    "new_prompt = f\"\"\"\n",
    "The following tables are available:\n",
    "{text_tables}\n",
    "\n",
    "Generate a SQL query to answer this question: {new_question}\n",
    "\"\"\""
   ]
  },
  {
   "cell_type": "code",
   "execution_count": 22,
   "id": "03ca2be6",
   "metadata": {},
   "outputs": [
    {
     "name": "stdout",
     "output_type": "stream",
     "text": [
      "\n",
      "Generated SQL query for new question:\n",
      " ```sql\n",
      "SELECT DISTINCT c.name\n",
      "FROM Customers c\n",
      "JOIN Orders o ON c.customer_id = o.customer_id\n",
      "JOIN OrderDetails od ON o.order_id = od.order_id\n",
      "JOIN Products p ON od.product_id = p.product_id\n",
      "WHERE p.category = 'Electronics';\n",
      "```\n"
     ]
    }
   ],
   "source": [
    "# Get the new SQL query\n",
    "new_sql_query = return_OAI(new_prompt)\n",
    "print(\"\\nGenerated SQL query for new question:\\n\", new_sql_query)\n"
   ]
  },
  {
   "cell_type": "markdown",
   "id": "3ea948fd",
   "metadata": {},
   "source": [
    "### Report Summary\n",
    "\n",
    "**Project Summary:**\n",
    "\n",
    "We built a system that generates SQL queries based on table names and descriptions using GPT-3.5 Turbo.\n",
    "\n",
    "1. Defined tables and descriptions.\n",
    "2. Formed a prompt combining table details.\n",
    "3. Sent the prompt to the OpenAI API.\n",
    "4. Generated SQL queries to answer user questions.\n",
    "\n",
    "**Results:**\n",
    "- Successfully generated SQL queries for multiple user questions.\n",
    "- Demonstrated flexibility by adapting to new queries without modifying the tables.\n",
    "\n",
    "**Next Steps:**\n",
    "- Improve handling of complex joins and conditions.\n",
    "- Test with larger databases and more tables.\n",
    "- Add error handling for API connection issues.\n",
    "\"\"\"\n",
    "\n"
   ]
  }
 ],
 "metadata": {
  "colab": {
   "include_colab_link": true,
   "provenance": []
  },
  "kernelspec": {
   "display_name": "base",
   "language": "python",
   "name": "python3"
  },
  "language_info": {
   "codemirror_mode": {
    "name": "ipython",
    "version": 3
   },
   "file_extension": ".py",
   "mimetype": "text/x-python",
   "name": "python",
   "nbconvert_exporter": "python",
   "pygments_lexer": "ipython3",
   "version": "3.12.7"
  }
 },
 "nbformat": 4,
 "nbformat_minor": 5
}
